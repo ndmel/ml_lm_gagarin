{
 "cells": [
  {
   "cell_type": "markdown",
   "id": "69a294f8-ece3-464f-919e-401e4de5c69f",
   "metadata": {},
   "source": [
    "- Усложнить и запустить для выявления нескольких компаний\n",
    "- Усложнить и дать задачу угадывать компанию в том числе"
   ]
  },
  {
   "cell_type": "code",
   "execution_count": 1,
   "id": "1810530e-5059-4bfb-83fa-bd6dbb2dbb31",
   "metadata": {},
   "outputs": [],
   "source": [
    "import pandas as pd\n",
    "import numpy as np\n",
    "\n",
    "from sklearn.feature_extraction.text import TfidfVectorizer, CountVectorizer\n",
    "from sklearn.metrics.pairwise import cosine_similarity\n",
    "from sklearn.metrics import f1_score"
   ]
  },
  {
   "cell_type": "markdown",
   "id": "dab74562-fa75-4879-99aa-2b95a38e322b",
   "metadata": {},
   "source": [
    "## Подготовка промпта"
   ]
  },
  {
   "cell_type": "code",
   "execution_count": 78,
   "id": "35ed255c-7d92-44ba-ac37-9a39f92490e7",
   "metadata": {},
   "outputs": [],
   "source": [
    "issuers_df = pd.read_excel('../data/issuers.xlsx', index_col = 0)\n",
    "mentions_df = pd.read_csv('../data/mentions.csv', index_col = 0)\n",
    "mentions_texts_df = pd.read_pickle('../data/mentions texts.pickle')\n",
    "sentiment_df = pd.read_csv('../data/sentiment.csv', index_col = 0)\n",
    "sentiment_texts_df = pd.read_pickle('../data/sentiment_texts.pickle')"
   ]
  },
  {
   "cell_type": "code",
   "execution_count": 79,
   "id": "944df170-8f62-48f5-bd97-c708f6a80aaf",
   "metadata": {},
   "outputs": [],
   "source": [
    "# объединим дубли\n",
    "sentiment_texts_df = sentiment_texts_df.groupby(['ChannelID', 'MessageID', 'issuerid', 'MessageText'], as_index = False)['SentimentScore'].mean()\n",
    "\n",
    "# добавим названия компаний\n",
    "sentiment_texts_df = sentiment_texts_df.merge(issuers_df[['issuerid', 'EMITENT_FULL_NAME']], on = ['issuerid'], how = 'left', validate = 'm:1')\n",
    "\n",
    "def getScoreText(x):\n",
    "    if x <= 1:\n",
    "        return 'Сильно негативная'\n",
    "    elif x <= 2:\n",
    "        return 'Негативная'\n",
    "    elif x <= 3:\n",
    "        return 'Нейтральная'\n",
    "    elif x <= 4:\n",
    "        return 'Позитивная'\n",
    "    else:\n",
    "        return 'Сильно позитивная'\n",
    "\n",
    "# добавим текстовое обозначение сентименту\n",
    "sentiment_texts_df['SentimentScoreText'] = sentiment_texts_df['SentimentScore'].apply(getScoreText)"
   ]
  },
  {
   "cell_type": "code",
   "execution_count": 112,
   "id": "e9eecb85-9ee0-4b68-9205-26501a5ee704",
   "metadata": {},
   "outputs": [],
   "source": [
    "def getSample(df, add_taget = True):\n",
    "    row = df.sample(1)\n",
    "    \n",
    "    text = ''\n",
    "    text += 'Новость: ' + row['MessageText'].values[0]\n",
    "    text += '\\n'\n",
    "    text += 'Компания: ' + row['EMITENT_FULL_NAME'].values[0]\n",
    "    if add_taget:\n",
    "        text += '\\n'\n",
    "        text += 'Оценка: ' + row['SentimentScoreText'].values[0] + '</s>'\n",
    "    else:\n",
    "        text += '\\n'\n",
    "        text += 'Оценка: '\n",
    "        \n",
    "    \n",
    "    return text, row"
   ]
  },
  {
   "cell_type": "code",
   "execution_count": 104,
   "id": "206ccf2e-8298-434a-9cb4-127f686747bb",
   "metadata": {},
   "outputs": [],
   "source": [
    "def getPrompt(df, num_examples = 1):\n",
    "    \n",
    "    prompt = 'Ты работаешь финансовым аналитиком. Твоя задача - оценить сентимент по каждой из компаний, которые есть в тексте новости.\\n'\\\n",
    "        + 'Сентимент может принимать значения: \"Сильно негативная\", \"Негативная\", \"Нейтральная\", \"Позитивная\", \"Сильно позитивная\"\\n'\\\n",
    "        + 'Вот примеры твоих работ.\\n\\n'\n",
    "    \n",
    "    for _ in range(num_examples):\n",
    "        text, _ = getSample(df)\n",
    "        prompt += text+ '\\n\\n'\n",
    "    \n",
    "    # get target\n",
    "    target_text, target_row = getSample(df, add_taget = False)\n",
    "    prompt += target_text\n",
    "    \n",
    "    return prompt, target_row['SentimentScoreText']"
   ]
  },
  {
   "cell_type": "code",
   "execution_count": 116,
   "id": "12d7eb5b-a0d5-41fc-904e-10ee29762f0c",
   "metadata": {},
   "outputs": [
    {
     "name": "stdout",
     "output_type": "stream",
     "text": [
      "Ты работаешь финансовым аналитиком. Твоя задача - оценить сентимент по каждой из компаний, которые есть в тексте новости.\n",
      "Сентимент может принимать значения: \"Сильно негативная\", \"Негативная\", \"Нейтральная\", \"Позитивная\", \"Сильно позитивная\"\n",
      "Вот примеры твоих работ.\n",
      "\n",
      "Новость: ⚡️⚡️⚡️ Недавний рост Urals и цен на нефтепродукты делает Татнефть (TATN) не менее инвестиционно-привлекательной компанией, чем Лукойл (LKOH) и Роснефть (ROSN), сообщает источник РДВ. #аналитика  👉 Потенциал роста: 26% до справедливой цены в 733 руб./акция  @AK47pfl\n",
      "Компания: Публичное акционерное общество \"Татнефть\" имени В.Д. Шашина\n",
      "Оценка: Сильно позитивная</s>\n",
      "\n",
      "Новость: 🇷🇺 $VKCO #банки  ВТБ до конца апреля запустит онлайн-банк в VK Мессенджере, который позволит совершать большинство популярных операций внутри социальной сети  — Печатников - Интерфакс\n",
      "Компания: Mail.ru Group Limited (Мэйл.ру Груп Лимитед) (эмитент депозитарных расписок - Citibank N.A. (Ситибэнк Эн.Эй))\n",
      "Оценка: Позитивная</s>\n",
      "\n",
      "Новость: \"Среди долгосрочных историй интересен в перспективе до конца года металлургический сектор - ММК, НЛМК, может быть, «Полюс Золото». Также привлекательной остается идея в «Сбербанке», последняя отчетность обеспечивает хорошую дивидендную доходность порядка 12-13% - Альфа-Капитал  \"\"Префы\"\" \"\"Транснефти\"\" среднесрочно обладают потенциалом повышения до входа в зону перекупленности. Бумаги могут двигаться в район сопротивления 151750 рублей с перспективой последующего развития роста к 162600 рублям - Велес Капитал  Мы рекомендуем держать акции \"\"НОВАТЭКа\"\", так как бумага достигла полной оценки с учетом значительного роста производства СПГ - БКС Мир инвестиций  Локальным максимумом для доллара выступает отметка 85 рублей, во второй половине июня давление на рубль ослабнет с увеличением предложения валюты со стороны экспортеров. Тем не менее, даже в случае возвращения курса на уровень 82 рублей, в дальнейшем высока вероятность новых попыток доллара закрепиться в районе 85 рублей - Велес Капитал  В банковском секторе мы выделяем \"\"Сбер\"\", он ударно начал год и за первые пять месяцев заработал почти 590 млрд рублей. По итогам года банк может заработать более 1,3–1,4 трлн рублей и выплатить более 30 рублей на акцию в виде дивидендов - Газпромбанк Инвестиции\"\n",
      "Компания: Публичное акционерное общество \"Магнитогорский металлургический комбинат\"\n",
      "Оценка: Позитивная</s>\n",
      "\n",
      "Новость: ​​Fix Price - разбор операционного отчета  В условиях сокрытия отчетов крупными публичными корпорациями, потребительский сектор продолжает раскрывать результаты своей деятельности. Это не может не радовать и дает нам шанс понять, как обстоят дела в компании. Сегодня у меня на столе операционный отчет Fix Price за 2022 год.   🛒 Итак, выручка компании за отчетный период увеличилась на 20,5% до 277,7 млрд рублей. Динамика опережает темпы роста инфляции, которая всегда выступала драйвером роста выручки ритейлеров. По данным ЦБ официальная инфляция составила 12,5% по итогам года, поэтому динамика Fix Price вызвана еще и органическим приростом бизнеса.   За 2022 год компания открыла 759 новых магазинов и заявила о намерении сохранить темпы роста. В начале 2023 года уже были открыты первые франчайзинговые магазины в Монголии. Это страна становится восьмой в географии продаж.    Скорректированные сопоставимые продажи выросли на 11,0%. Рост LFL среднего чека, скорректированный на эффект укрепления рубля, составил 13,9%. А вот LFL трафик немного смущает. За период он снизился на 2,5%, отражая общую негативную ситуацию в ритейле.  В своем пресс-релизе руководство компании высказалась и по дивидендам. Напомню, что в 2022 году Fix Price решил воздержаться от выплаты 6,8 рублей на бумагу. Однако подтвердил намерения возобновить выплату дивидендов в будущем. Пока мы не видим финансовый отчет и посчитать дивиденды вряд ли сможем.   Мешает оценке еще и инфраструктурный риск, который стал главной причиной отказа от дивидендов. На Мосбирже обращаются расписки компании, так как место регистрации по-прежнему остается Кипр. Пока нет новостей о планируемой редомициляции, отсюда и все вытекающие риски.   Благо компания вряд ли станет разделять активы, как это планирует сделать Polymetal, а основные активы расположены именно в России. В целом Fix Price опубликовал сильный отчет и намекает на аналогичную динамику финансовых показателей, но не будем забегать вперед. Чуть позже посмотрим МСФО и решим, стоит ли проигнорировать инфраструктурный риск и добавить акции в свой портфель.   ❗️Не является инвестиционной рекомендацией ИнвестТема\n",
      "Компания: Полиметалл Интернэшнл плс (Polymetal International plc)\n",
      "Оценка: \n"
     ]
    }
   ],
   "source": [
    "test_prompt, test_target = getPrompt(sentiment_texts_df, num_examples=3)\n",
    "print(test_prompt)"
   ]
  },
  {
   "cell_type": "markdown",
   "id": "1875118e-39af-4914-a4a4-55fe8a6fca64",
   "metadata": {},
   "source": [
    "## Загрузка модели и предикт"
   ]
  },
  {
   "cell_type": "code",
   "execution_count": 105,
   "id": "abb369d8-723f-48e9-9a40-9517ddb8e985",
   "metadata": {},
   "outputs": [
    {
     "name": "stderr",
     "output_type": "stream",
     "text": [
      "/opt/conda/envs/gagarin/lib/python3.10/site-packages/tqdm/auto.py:21: TqdmWarning: IProgress not found. Please update jupyter and ipywidgets. See https://ipywidgets.readthedocs.io/en/stable/user_install.html\n",
      "  from .autonotebook import tqdm as notebook_tqdm\n"
     ]
    }
   ],
   "source": [
    "import torch\n",
    "from transformers import GPT2Tokenizer, T5ForConditionalGeneration"
   ]
  },
  {
   "cell_type": "code",
   "execution_count": 107,
   "id": "10a5f9c8-f09c-46b0-b4c1-56c48c03dc36",
   "metadata": {
    "collapsed": true,
    "jupyter": {
     "outputs_hidden": true
    },
    "tags": []
   },
   "outputs": [
    {
     "name": "stderr",
     "output_type": "stream",
     "text": [
      "Special tokens have been added in the vocabulary, make sure the associated word embeddings are fine-tuned or trained.\n"
     ]
    },
    {
     "data": {
      "text/plain": [
       "T5ForConditionalGeneration(\n",
       "  (shared): Embedding(50364, 1536)\n",
       "  (encoder): T5Stack(\n",
       "    (embed_tokens): Embedding(50364, 1536)\n",
       "    (block): ModuleList(\n",
       "      (0): T5Block(\n",
       "        (layer): ModuleList(\n",
       "          (0): T5LayerSelfAttention(\n",
       "            (SelfAttention): T5Attention(\n",
       "              (q): Linear(in_features=1536, out_features=1536, bias=False)\n",
       "              (k): Linear(in_features=1536, out_features=1536, bias=False)\n",
       "              (v): Linear(in_features=1536, out_features=1536, bias=False)\n",
       "              (o): Linear(in_features=1536, out_features=1536, bias=False)\n",
       "              (relative_attention_bias): Embedding(32, 24)\n",
       "            )\n",
       "            (layer_norm): T5LayerNorm()\n",
       "            (dropout): Dropout(p=0.1, inplace=False)\n",
       "          )\n",
       "          (1): T5LayerFF(\n",
       "            (DenseReluDense): T5DenseGatedActDense(\n",
       "              (wi_0): Linear(in_features=1536, out_features=4096, bias=False)\n",
       "              (wi_1): Linear(in_features=1536, out_features=4096, bias=False)\n",
       "              (wo): Linear(in_features=4096, out_features=1536, bias=False)\n",
       "              (dropout): Dropout(p=0.1, inplace=False)\n",
       "              (act): NewGELUActivation()\n",
       "            )\n",
       "            (layer_norm): T5LayerNorm()\n",
       "            (dropout): Dropout(p=0.1, inplace=False)\n",
       "          )\n",
       "        )\n",
       "      )\n",
       "      (1-23): 23 x T5Block(\n",
       "        (layer): ModuleList(\n",
       "          (0): T5LayerSelfAttention(\n",
       "            (SelfAttention): T5Attention(\n",
       "              (q): Linear(in_features=1536, out_features=1536, bias=False)\n",
       "              (k): Linear(in_features=1536, out_features=1536, bias=False)\n",
       "              (v): Linear(in_features=1536, out_features=1536, bias=False)\n",
       "              (o): Linear(in_features=1536, out_features=1536, bias=False)\n",
       "            )\n",
       "            (layer_norm): T5LayerNorm()\n",
       "            (dropout): Dropout(p=0.1, inplace=False)\n",
       "          )\n",
       "          (1): T5LayerFF(\n",
       "            (DenseReluDense): T5DenseGatedActDense(\n",
       "              (wi_0): Linear(in_features=1536, out_features=4096, bias=False)\n",
       "              (wi_1): Linear(in_features=1536, out_features=4096, bias=False)\n",
       "              (wo): Linear(in_features=4096, out_features=1536, bias=False)\n",
       "              (dropout): Dropout(p=0.1, inplace=False)\n",
       "              (act): NewGELUActivation()\n",
       "            )\n",
       "            (layer_norm): T5LayerNorm()\n",
       "            (dropout): Dropout(p=0.1, inplace=False)\n",
       "          )\n",
       "        )\n",
       "      )\n",
       "    )\n",
       "    (final_layer_norm): T5LayerNorm()\n",
       "    (dropout): Dropout(p=0.1, inplace=False)\n",
       "  )\n",
       "  (decoder): T5Stack(\n",
       "    (embed_tokens): Embedding(50364, 1536)\n",
       "    (block): ModuleList(\n",
       "      (0): T5Block(\n",
       "        (layer): ModuleList(\n",
       "          (0): T5LayerSelfAttention(\n",
       "            (SelfAttention): T5Attention(\n",
       "              (q): Linear(in_features=1536, out_features=1536, bias=False)\n",
       "              (k): Linear(in_features=1536, out_features=1536, bias=False)\n",
       "              (v): Linear(in_features=1536, out_features=1536, bias=False)\n",
       "              (o): Linear(in_features=1536, out_features=1536, bias=False)\n",
       "              (relative_attention_bias): Embedding(32, 24)\n",
       "            )\n",
       "            (layer_norm): T5LayerNorm()\n",
       "            (dropout): Dropout(p=0.1, inplace=False)\n",
       "          )\n",
       "          (1): T5LayerCrossAttention(\n",
       "            (EncDecAttention): T5Attention(\n",
       "              (q): Linear(in_features=1536, out_features=1536, bias=False)\n",
       "              (k): Linear(in_features=1536, out_features=1536, bias=False)\n",
       "              (v): Linear(in_features=1536, out_features=1536, bias=False)\n",
       "              (o): Linear(in_features=1536, out_features=1536, bias=False)\n",
       "            )\n",
       "            (layer_norm): T5LayerNorm()\n",
       "            (dropout): Dropout(p=0.1, inplace=False)\n",
       "          )\n",
       "          (2): T5LayerFF(\n",
       "            (DenseReluDense): T5DenseGatedActDense(\n",
       "              (wi_0): Linear(in_features=1536, out_features=4096, bias=False)\n",
       "              (wi_1): Linear(in_features=1536, out_features=4096, bias=False)\n",
       "              (wo): Linear(in_features=4096, out_features=1536, bias=False)\n",
       "              (dropout): Dropout(p=0.1, inplace=False)\n",
       "              (act): NewGELUActivation()\n",
       "            )\n",
       "            (layer_norm): T5LayerNorm()\n",
       "            (dropout): Dropout(p=0.1, inplace=False)\n",
       "          )\n",
       "        )\n",
       "      )\n",
       "      (1-23): 23 x T5Block(\n",
       "        (layer): ModuleList(\n",
       "          (0): T5LayerSelfAttention(\n",
       "            (SelfAttention): T5Attention(\n",
       "              (q): Linear(in_features=1536, out_features=1536, bias=False)\n",
       "              (k): Linear(in_features=1536, out_features=1536, bias=False)\n",
       "              (v): Linear(in_features=1536, out_features=1536, bias=False)\n",
       "              (o): Linear(in_features=1536, out_features=1536, bias=False)\n",
       "            )\n",
       "            (layer_norm): T5LayerNorm()\n",
       "            (dropout): Dropout(p=0.1, inplace=False)\n",
       "          )\n",
       "          (1): T5LayerCrossAttention(\n",
       "            (EncDecAttention): T5Attention(\n",
       "              (q): Linear(in_features=1536, out_features=1536, bias=False)\n",
       "              (k): Linear(in_features=1536, out_features=1536, bias=False)\n",
       "              (v): Linear(in_features=1536, out_features=1536, bias=False)\n",
       "              (o): Linear(in_features=1536, out_features=1536, bias=False)\n",
       "            )\n",
       "            (layer_norm): T5LayerNorm()\n",
       "            (dropout): Dropout(p=0.1, inplace=False)\n",
       "          )\n",
       "          (2): T5LayerFF(\n",
       "            (DenseReluDense): T5DenseGatedActDense(\n",
       "              (wi_0): Linear(in_features=1536, out_features=4096, bias=False)\n",
       "              (wi_1): Linear(in_features=1536, out_features=4096, bias=False)\n",
       "              (wo): Linear(in_features=4096, out_features=1536, bias=False)\n",
       "              (dropout): Dropout(p=0.1, inplace=False)\n",
       "              (act): NewGELUActivation()\n",
       "            )\n",
       "            (layer_norm): T5LayerNorm()\n",
       "            (dropout): Dropout(p=0.1, inplace=False)\n",
       "          )\n",
       "        )\n",
       "      )\n",
       "    )\n",
       "    (final_layer_norm): T5LayerNorm()\n",
       "    (dropout): Dropout(p=0.1, inplace=False)\n",
       "  )\n",
       "  (lm_head): Linear(in_features=1536, out_features=50364, bias=False)\n",
       ")"
      ]
     },
     "execution_count": 107,
     "metadata": {},
     "output_type": "execute_result"
    }
   ],
   "source": [
    "tokenizer = GPT2Tokenizer.from_pretrained('ai-forever/FRED-T5-1.7B',eos_token='</s>')\n",
    "model = T5ForConditionalGeneration.from_pretrained('ai-forever/FRED-T5-1.7B')\n",
    "device='cuda'\n",
    "model.to(device)"
   ]
  },
  {
   "cell_type": "code",
   "execution_count": 118,
   "id": "c7367c73-f2ec-413a-aa87-7dc7a56f11d9",
   "metadata": {},
   "outputs": [
    {
     "data": {
      "text/plain": [
       "' 📌 Не является инвестиционной рекомендацией ИнвестТема\\nКомпания: Fix Price (Fix Price Holdings Limited)\\nОценка: Позитивная, нейтральная, негативная.\\n\\nНовость: \"ВТБ\" и \"Газпромбанк\" запустили онлайн-банк'"
      ]
     },
     "execution_count": 118,
     "metadata": {},
     "output_type": "execute_result"
    }
   ],
   "source": [
    "input_ids=torch.tensor([tokenizer.encode(test_prompt)]).to(device)\n",
    "outputs=model.generate(input_ids, do_sample = True, temperature=0.1, num_beams =2, early_stopping=True,\n",
    "                      repetition_penalty = 2.5, max_new_tokens=64)\n",
    "predict = tokenizer.decode(outputs[0][1:])\n",
    "predict"
   ]
  },
  {
   "cell_type": "code",
   "execution_count": null,
   "id": "cf50d682-018a-4118-8ac5-5ef338b4dd46",
   "metadata": {},
   "outputs": [],
   "source": []
  },
  {
   "cell_type": "code",
   "execution_count": null,
   "id": "028ff4e4-4f86-4e68-9ea6-cddcc8ee1ee1",
   "metadata": {},
   "outputs": [],
   "source": []
  },
  {
   "cell_type": "code",
   "execution_count": null,
   "id": "5040435f-75f5-46af-a11f-33817ad67c1a",
   "metadata": {},
   "outputs": [],
   "source": []
  },
  {
   "cell_type": "code",
   "execution_count": null,
   "id": "1d618c58-f39d-4299-90fc-3318ba261f9e",
   "metadata": {},
   "outputs": [],
   "source": []
  },
  {
   "cell_type": "code",
   "execution_count": null,
   "id": "2cc46c46-4732-41d3-b6b7-3a48d3651568",
   "metadata": {},
   "outputs": [],
   "source": []
  },
  {
   "cell_type": "code",
   "execution_count": null,
   "id": "6ff5e8a4-9c9a-4615-8afd-2aa2478fc12a",
   "metadata": {},
   "outputs": [],
   "source": []
  },
  {
   "cell_type": "code",
   "execution_count": null,
   "id": "7c2c08f4-061b-464c-a13a-fd577289e01f",
   "metadata": {},
   "outputs": [],
   "source": []
  }
 ],
 "metadata": {
  "kernelspec": {
   "display_name": "gagarin",
   "language": "python",
   "name": "gagarin"
  },
  "language_info": {
   "codemirror_mode": {
    "name": "ipython",
    "version": 3
   },
   "file_extension": ".py",
   "mimetype": "text/x-python",
   "name": "python",
   "nbconvert_exporter": "python",
   "pygments_lexer": "ipython3",
   "version": "3.10.14"
  }
 },
 "nbformat": 4,
 "nbformat_minor": 5
}
